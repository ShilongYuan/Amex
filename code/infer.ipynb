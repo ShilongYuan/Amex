{
 "cells": [
  {
   "cell_type": "code",
   "execution_count": null,
   "metadata": {},
   "outputs": [],
   "source": [
    "import numpy as np \n",
    "import pandas as pd "
   ]
  },
  {
   "cell_type": "code",
   "execution_count": 3,
   "metadata": {},
   "outputs": [],
   "source": [
    "submit = pd.read_csv('../data/sample_submission.csv')\n",
    "submit['prediction'] = 0"
   ]
  },
  {
   "cell_type": "code",
   "execution_count": 7,
   "metadata": {},
   "outputs": [],
   "source": [
    "\n",
    "\n",
    "xgb = pd.read_csv('../result/xgboost/test_xg_5fold_seed42.csv') \n",
    "lgb1 = pd.read_csv('../result/lightgbm/test_lgbm_5fold_seed42.csv') \n",
    "lgb2 = pd.read_csv('../result/public/amex-bruteforce-feature-engineering/submission.csv') # https://www.kaggle.com/code/thedevastator/amex-bruteforce-feature-engineering\n",
    "public_lgb_xgb_cat = pd.read_csv('../result/public/the-fine-art-of-hyperparameter-tuning/submission.csv')  # https://www.kaggle.com/code/thedevastator/the-fine-art-of-hyperparameter-tuning\n",
    "\n",
    "submit['prediction'] = 1/2 * (lgb1['prediction'] + lgb2['prediction'])\n",
    "\n",
    "w1, w2 =  0.99, 0.01\n",
    "submit['prediction'] = submit['prediction']*w1 +   w2 * xgb['prediction'] \n",
    "\n",
    "w3, w4 = 0.65, 0.35\n",
    "submit['prediction'] = submit['prediction']*w3 +   w4 * public_lgb_xgb_cat['prediction'] \n",
    "# submit['prediction'] = rankdata(submit['prediction'])/submit.shape[0]\n",
    "submit.to_csv('../result/sub/submission.csv', index=None)"
   ]
  }
 ],
 "metadata": {
  "kernelspec": {
   "display_name": "Python 3.7.7 ('base')",
   "language": "python",
   "name": "python3"
  },
  "language_info": {
   "codemirror_mode": {
    "name": "ipython",
    "version": 3
   },
   "file_extension": ".py",
   "mimetype": "text/x-python",
   "name": "python",
   "nbconvert_exporter": "python",
   "pygments_lexer": "ipython3",
   "version": "3.7.7"
  },
  "orig_nbformat": 4,
  "vscode": {
   "interpreter": {
    "hash": "e167549371e743361d6ad77f7605beb6f92800b8233d080bf64715463c120c5e"
   }
  }
 },
 "nbformat": 4,
 "nbformat_minor": 2
}
